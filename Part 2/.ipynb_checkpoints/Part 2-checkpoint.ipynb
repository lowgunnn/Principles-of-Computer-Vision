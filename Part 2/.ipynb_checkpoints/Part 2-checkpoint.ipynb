{
 "cells": [
  {
   "cell_type": "markdown",
   "metadata": {
    "collapsed": true,
    "pycharm": {
     "name": "#%% md\n"
    }
   },
   "source": [
    "# Part 2: Implementing a CV Research Paper\n",
    "***\n",
    "# Table of Contents\n",
    "## Global\n",
    "1.   [Setup](#Setup)\n",
    "\n",
    "## Task A\n",
    "1.   [Scene Loading](#Task-A-Scene-Loading)\n",
    "2.   [Impainting](#Task-A-Impainting)\n",
    "3.   [Result Comparison](#Task-A-Result-Comparison)\n",
    "\n",
    "## Task B\n",
    "1.   [Scene Loading](#Task-B-Scene-Loading)\n",
    "2.   [Mask Handling](#Task-B-Mask-Handling)\n",
    "3.   [Impainting](#Task-B-Impainting)\n",
    "4.   [Result Comparison](#Task-B-Result-Comparison)\n"
   ]
  },
  {
   "cell_type": "markdown",
   "metadata": {},
   "source": [
    "# Setup\n",
    "\n",
    "3 libraries are used for this part of the assignment:\n",
    "* [opencv](https://opencv.org/)\n",
    "* [numpy](https://numpy.org/)\n",
    "* [tqdm](https://tqdm.github.io/)\n",
    "* [os](https://docs.python.org/3/library/os.html)"
   ]
  },
  {
   "cell_type": "code",
   "execution_count": 1,
   "metadata": {
    "pycharm": {
     "name": "#%%\n"
    }
   },
   "outputs": [
    {
     "name": "stdout",
     "output_type": "stream",
     "text": [
      "cv2 version: 4.0.1\n",
      "numpy version: 1.19.2\n",
      "tqdm version: 4.50.2\n"
     ]
    }
   ],
   "source": [
    "import cv2\n",
    "print('cv2 version:', cv2.__version__)\n",
    "import numpy as np\n",
    "print('numpy version:', np.__version__)\n",
    "import tqdm\n",
    "print('tqdm version:', tqdm.__version__)\n",
    "from tqdm.notebook import tqdm\n",
    "import os"
   ]
  },
  {
   "cell_type": "markdown",
   "metadata": {
    "pycharm": {
     "name": "#%% md\n"
    }
   },
   "source": [
    "# Task A Scene Loading\n",
    "\n",
    "In this section the S2, S1 and Mask of 6 object types are loaded in:\n",
    "\n",
    "* S2 : input image with object/s\n",
    "* S1 : real image with an object from S2 removed\n",
    "* Mask : Mask of object to be removed from S2\n"
   ]
  },
  {
   "cell_type": "code",
   "execution_count": 2,
   "metadata": {
    "pycharm": {
     "name": "#%%\n"
    }
   },
   "outputs": [],
   "source": [
    "# Define labels for objects\n",
    "\n",
    "id_to_Scene = [\"Statues\",\n",
    "               \"Shooter Glasses\",\n",
    "               \"Academic Books\",\n",
    "               \"Footwear\",\n",
    "               \"Mugs\",\n",
    "               \"Tech\"]"
   ]
  },
  {
   "cell_type": "code",
   "execution_count": 3,
   "metadata": {
    "pycharm": {
     "name": "#%%\n"
    }
   },
   "outputs": [],
   "source": [
    "# Load the S2 scenes\n",
    "\n",
    "root = 'Images/Task A/S2/'\n",
    "if not os.access(root, os.R_OK):\n",
    "    print(\"Check dataroot!!\")\n",
    "\n",
    "scenes = os.listdir(root)\n",
    "\n",
    "S2 = [cv2.imread(os.path.join(root, s)) for s in scenes]"
   ]
  },
  {
   "cell_type": "code",
   "execution_count": 4,
   "metadata": {
    "pycharm": {
     "name": "#%%\n"
    }
   },
   "outputs": [],
   "source": [
    "# Load the S1 scenes\n",
    "\n",
    "root = 'Images/Task A/S1/'\n",
    "if not os.access(root, os.R_OK):\n",
    "    print(\"Check dataroot!!\")\n",
    "\n",
    "scenes = os.listdir(root)\n",
    "\n",
    "S1 = [cv2.imread(os.path.join(root, s)) for s in scenes]\n"
   ]
  },
  {
   "cell_type": "code",
   "execution_count": 5,
   "metadata": {
    "pycharm": {
     "name": "#%%\n"
    }
   },
   "outputs": [],
   "source": [
    "# Load the Masks\n",
    "\n",
    "root = 'Images/Task A/Masks/'\n",
    "if not os.access(root, os.R_OK):\n",
    "    print(\"Check dataroot!!\")\n",
    "\n",
    "masks = os.listdir(root)\n",
    "\n",
    "Masks = [cv2.imread(os.path.join(root, m), 0) for m in masks]"
   ]
  },
  {
   "cell_type": "markdown",
   "metadata": {},
   "source": [
    "# Task A Impainting\n",
    "\n",
    "Image impainting is the process of adding lost information to an image. It can also be used to remove objects in an image\n",
    "as shown below."
   ]
  },
  {
   "cell_type": "markdown",
   "metadata": {
    "pycharm": {
     "name": "#%% md\n"
    }
   },
   "source": [
    "## TELEA and NS\n",
    "\n",
    "The 2 methods that are used for impainting as provided by opencv."
   ]
  },
  {
   "cell_type": "code",
   "execution_count": 6,
   "metadata": {
    "pycharm": {
     "name": "#%%\n"
    }
   },
   "outputs": [
    {
     "data": {
      "application/vnd.jupyter.widget-view+json": {
       "model_id": "cfeadd24b9fe42fdb226d4562765dfd9",
       "version_major": 2,
       "version_minor": 0
      },
      "text/plain": [
       "HBox(children=(HTML(value=''), FloatProgress(value=1.0, bar_style='info', layout=Layout(width='20px'), max=1.0…"
      ]
     },
     "metadata": {},
     "output_type": "display_data"
    },
    {
     "name": "stdout",
     "output_type": "stream",
     "text": [
      "\n"
     ]
    }
   ],
   "source": [
    "impainted = []\n",
    "for i, img in tqdm(enumerate(S2)):\n",
    "    impainted.append(cv2.inpaint(img.copy(), Masks[i].copy(), 3, cv2.INPAINT_TELEA))\n",
    "    cv2.imwrite(\"Output/Task A TELEA \"+ id_to_Scene[i] +\".png\", impainted[-1], [cv2.IMWRITE_PNG_COMPRESSION, 0])\n",
    "\n",
    "    impainted.append(cv2.inpaint(img.copy(), Masks[i].copy(), 3, cv2.INPAINT_NS))\n",
    "    cv2.imwrite(\"Output/Task A NS \"+ id_to_Scene[i] +\".png\", impainted[-1], [cv2.IMWRITE_PNG_COMPRESSION, 0])"
   ]
  },
  {
   "cell_type": "markdown",
   "metadata": {},
   "source": [
    "# Task A Result Comparison\n",
    "\n",
    "The SSD and MSE functions from Part 1 are used to compare the S2 impainted result to S1."
   ]
  },
  {
   "cell_type": "code",
   "execution_count": 7,
   "metadata": {
    "pycharm": {
     "name": "#%%\n"
    }
   },
   "outputs": [],
   "source": [
    "def SSD(image1, image2):\n",
    "    return np.sum((image1 - image2) ** 2)\n",
    "\n",
    "def MSE(image1, image2):\n",
    "    return np.mean((image1-image2)**2)"
   ]
  },
  {
   "cell_type": "code",
   "execution_count": 8,
   "metadata": {
    "pycharm": {
     "name": "#%%\n"
    }
   },
   "outputs": [],
   "source": [
    "Results = {\"SSD\": [], \"MSE\": []}\n",
    "\n",
    "Results[\"SSD\"] = [SSD(impaint.copy(), S1[i//2].copy()) for i, impaint in enumerate(impainted)]\n",
    "Results[\"MSE\"] = [MSE(impaint.copy(), S1[i//2].copy()) for i, impaint in enumerate(impainted)]"
   ]
  },
  {
   "cell_type": "code",
   "execution_count": 9,
   "metadata": {
    "pycharm": {
     "name": "#%%\n"
    }
   },
   "outputs": [
    {
     "name": "stdout",
     "output_type": "stream",
     "text": [
      "{'SSD': [116699128, 116998164, 36426554, 36471086, 63658112, 62852151, 48794438, 48595223, 41426087, 41920221, 40899749, 41501292], 'MSE': [42.20888599537037, 42.317044270833335, 13.175113570601852, 13.191220341435185, 23.02449074074074, 22.732982855902776, 17.648451244212964, 17.57639720775463, 14.983393735532408, 15.16211697048611, 14.793022641782407, 15.010594618055556]}\n"
     ]
    }
   ],
   "source": [
    "print(Results)"
   ]
  },
  {
   "cell_type": "markdown",
   "metadata": {
    "pycharm": {
     "name": "#%% md\n"
    }
   },
   "source": [
    "# Task B"
   ]
  },
  {
   "cell_type": "markdown",
   "metadata": {
    "pycharm": {
     "name": "#%% md\n"
    }
   },
   "source": [
    "# Task B Scene Loading"
   ]
  },
  {
   "cell_type": "code",
   "execution_count": 10,
   "metadata": {
    "pycharm": {
     "name": "#%%\n"
    }
   },
   "outputs": [],
   "source": [
    "id_to_Scene = [\"Books A NW\",\n",
    "               \"Books A W\",\n",
    "               \"Bottles A NW\",\n",
    "               \"Bottles A W\",\n",
    "               \"Electronics A NW\",\n",
    "               \"Electronics A W\"]"
   ]
  },
  {
   "cell_type": "code",
   "execution_count": 11,
   "metadata": {
    "pycharm": {
     "name": "#%%\n"
    }
   },
   "outputs": [],
   "source": [
    "root = 'Images/Task B/S2/'\n",
    "if not os.access(root, os.R_OK):\n",
    "    print(\"Check dataroot!!\")\n",
    "\n",
    "scenes = os.listdir(root)\n",
    "\n",
    "S2 = [cv2.imread(os.path.join(root, s)) for s in scenes]"
   ]
  },
  {
   "cell_type": "code",
   "execution_count": 12,
   "metadata": {
    "pycharm": {
     "name": "#%%\n"
    }
   },
   "outputs": [],
   "source": [
    "root = 'Images/Task B/S1/'\n",
    "if not os.access(root, os.R_OK):\n",
    "    print(\"Check dataroot!!\")\n",
    "\n",
    "scenes = os.listdir(root)\n",
    "\n",
    "S1 = [cv2.imread(os.path.join(root, s)) for s in scenes]"
   ]
  },
  {
   "cell_type": "markdown",
   "metadata": {
    "pycharm": {
     "name": "#%% md\n"
    }
   },
   "source": [
    "# Task B Masks"
   ]
  },
  {
   "cell_type": "code",
   "execution_count": 13,
   "metadata": {
    "pycharm": {
     "name": "#%%\n"
    }
   },
   "outputs": [],
   "source": [
    "root = 'Images/Task B/Masks/'\n",
    "if not os.access(root, os.R_OK):\n",
    "    print(\"Check dataroot!!\")\n",
    "\n",
    "masks = os.listdir(root)\n",
    "\n",
    "_Masks = [cv2.imread(os.path.join(root, m), 0) for m in masks]"
   ]
  },
  {
   "cell_type": "markdown",
   "metadata": {
    "pycharm": {
     "name": "#%% md\n"
    }
   },
   "source": [
    "By checking the matrix we could get specific gray value for each object mask. A new mask is created on this grey value."
   ]
  },
  {
   "cell_type": "code",
   "execution_count": 14,
   "metadata": {
    "pycharm": {
     "name": "#%%\n"
    }
   },
   "outputs": [
    {
     "data": {
      "application/vnd.jupyter.widget-view+json": {
       "model_id": "ea3ac5b2068f44d1b90424fda6984232",
       "version_major": 2,
       "version_minor": 0
      },
      "text/plain": [
       "0it [00:00, ?it/s]"
      ]
     },
     "metadata": {},
     "output_type": "display_data"
    }
   ],
   "source": [
    "greys = [[14], [75, 38], [75], [75], [38], [38]]\n",
    "\n",
    "Masks = []\n",
    "\n",
    "for m_count, mask in tqdm(enumerate(_Masks)):\n",
    "    Masks.append(mask.copy())\n",
    "    for i, y in enumerate(Masks[-1]):\n",
    "        for j, x in enumerate(y):\n",
    "            if len(greys[m_count]) == 1:\n",
    "                if Masks[-1][i][j] != greys[m_count][0]:\n",
    "                    Masks[-1][i][j] = 0\n",
    "                else:\n",
    "                    Masks[-1][i][j] = 255\n",
    "            else:\n",
    "                if Masks[-1][i][j] != greys[m_count][0] and Masks[-1][i][j] != greys[m_count][1]:\n",
    "                    Masks[-1][i][j] = 0\n",
    "                else:\n",
    "                    Masks[-1][i][j] = 255\n",
    "\n",
    "    cv2.imwrite(\"Output/Task B Mask \"+ str(m_count) +\".png\", Masks[-1], [cv2.IMWRITE_PNG_COMPRESSION, 0])"
   ]
  },
  {
   "cell_type": "markdown",
   "metadata": {
    "pycharm": {
     "name": "#%% md\n"
    }
   },
   "source": [
    "# Task B Impainting"
   ]
  },
  {
   "cell_type": "markdown",
   "metadata": {},
   "source": [
    "## TELEA and NS"
   ]
  },
  {
   "cell_type": "code",
   "execution_count": 15,
   "metadata": {
    "pycharm": {
     "name": "#%%\n"
    }
   },
   "outputs": [
    {
     "data": {
      "application/vnd.jupyter.widget-view+json": {
       "model_id": "57159b486a074d36b07989cb0df7b5b1",
       "version_major": 2,
       "version_minor": 0
      },
      "text/plain": [
       "0it [00:00, ?it/s]"
      ]
     },
     "metadata": {},
     "output_type": "display_data"
    }
   ],
   "source": [
    "impainted = []\n",
    "for i, img in tqdm(enumerate(S2)):\n",
    "    impainted.append(cv2.inpaint(img.copy(), Masks[i].copy(), 3, cv2.INPAINT_TELEA))\n",
    "    cv2.imwrite(\"Output/Task B TELEA \"+ id_to_Scene[i] +\".png\", impainted[-1], [cv2.IMWRITE_PNG_COMPRESSION, 0])\n",
    "\n",
    "    impainted.append(cv2.inpaint(img.copy(), Masks[i].copy(), 3, cv2.INPAINT_NS))\n",
    "    cv2.imwrite(\"Output/Task B NS \"+ id_to_Scene[i] +\".png\", impainted[-1], [cv2.IMWRITE_PNG_COMPRESSION, 0])"
   ]
  },
  {
   "cell_type": "markdown",
   "metadata": {},
   "source": [
    "# Task B Result Comparison"
   ]
  },
  {
   "cell_type": "code",
   "execution_count": 16,
   "metadata": {
    "pycharm": {
     "name": "#%%\n"
    }
   },
   "outputs": [],
   "source": [
    "def SSD(image1, image2):\n",
    "    return np.sum((image1.astype(\"float\") - image2.astype(\"float\")) ** 2)\n",
    "\n",
    "def MSE(image1, image2):\n",
    "    return np.mean((image1-image2)**2)"
   ]
  },
  {
   "cell_type": "code",
   "execution_count": 17,
   "metadata": {
    "pycharm": {
     "name": "#%%\n"
    }
   },
   "outputs": [],
   "source": [
    "Results = {\"SSD\": [], \"MSE\": []}\n",
    "\n",
    "Results[\"SSD\"] = [SSD(impaint.copy(), S1[i//2].copy()) for i, impaint in enumerate(impainted)]\n",
    "Results[\"MSE\"] = [MSE(impaint.copy(), S1[i//2].copy()) for i, impaint in enumerate(impainted)]"
   ]
  },
  {
   "cell_type": "code",
   "execution_count": 18,
   "metadata": {
    "pycharm": {
     "name": "#%%\n"
    }
   },
   "outputs": [
    {
     "name": "stdout",
     "output_type": "stream",
     "text": [
      "{'SSD': [872725274.0, 952867397.0, 967066154.0, 1079077087.0, 246319032.0, 257172040.0, 1070677610.0, 1108628015.0, 415069437.0, 469780795.0, 389166321.0, 408671591.0], 'MSE': [24.76658347800926, 24.333821252893518, 25.32492259837963, 25.451747323495372, 22.487473958333332, 22.694933449074075, 34.39235315393518, 34.37538736979167, 15.226480396412038, 15.32381763599537, 49.26332790798611, 49.302537254050925]}\n"
     ]
    }
   ],
   "source": [
    "print(Results)\n"
   ]
  }
 ],
 "metadata": {
  "kernelspec": {
   "display_name": "Python 3",
   "language": "python",
   "name": "python3"
  },
  "language_info": {
   "codemirror_mode": {
    "name": "ipython",
    "version": 3
   },
   "file_extension": ".py",
   "mimetype": "text/x-python",
   "name": "python",
   "nbconvert_exporter": "python",
   "pygments_lexer": "ipython3",
   "version": "3.8.5"
  }
 },
 "nbformat": 4,
 "nbformat_minor": 1
}
