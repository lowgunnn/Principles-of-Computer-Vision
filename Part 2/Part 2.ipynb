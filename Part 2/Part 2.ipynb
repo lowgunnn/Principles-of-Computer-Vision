{
 "cells": [
  {
   "cell_type": "markdown",
   "metadata": {
    "collapsed": true,
    "pycharm": {
     "name": "#%% md\n"
    }
   },
   "source": [
    "# Part 1: Computer Vision Functions\n",
    "***\n",
    "# Table of Contents\n",
    "## Global\n",
    "1.   [Setup](#Setup)\n",
    "\n",
    "## Stage 1\n",
    "1.   [Object Extraction](#Object-Extraction)\n",
    "2.   [Filtering](#Filtering)\n",
    "3.   [Object Blending](#Object-Blending)\n",
    "4.   [Result Comparison](#Result-Comparison)\n",
    "\n",
    "## Stage 2\n",
    "1.   [Remove Green](#Remove-Green)\n",
    "2.   [Change Background](#Change-Background)\n"
   ]
  },
  {
   "cell_type": "markdown",
   "source": [
    "# Setup\n",
    "\n",
    "3 libraries are used for this part of the assignment:\n",
    "* [opencv](https://opencv.org/)\n",
    "* [numpy](https://numpy.org/)\n",
    "* [tqdm](https://tqdm.github.io/)"
   ],
   "metadata": {
    "collapsed": false
   }
  },
  {
   "cell_type": "code",
   "execution_count": null,
   "outputs": [],
   "source": [
    "import cv2\n",
    "print('cv2 version:', cv2.__version__)\n",
    "import numpy as np\n",
    "print('numpy version:', np.__version__)\n",
    "import tqdm\n",
    "print('tqdm version:', tqdm.__version__)\n",
    "from tqdm.notebook import tqdm"
   ],
   "metadata": {
    "collapsed": false,
    "pycharm": {
     "name": "#%%\n"
    }
   }
  },
  {
   "cell_type": "code",
   "execution_count": null,
   "outputs": [],
   "source": [
    "\n"
   ],
   "metadata": {
    "collapsed": false,
    "pycharm": {
     "name": "#%%\n"
    }
   }
  }
 ],
 "metadata": {
  "kernelspec": {
   "display_name": "Python 3",
   "language": "python",
   "name": "python3"
  },
  "language_info": {
   "codemirror_mode": {
    "name": "ipython",
    "version": 2
   },
   "file_extension": ".py",
   "mimetype": "text/x-python",
   "name": "python",
   "nbconvert_exporter": "python",
   "pygments_lexer": "ipython2",
   "version": "2.7.6"
  }
 },
 "nbformat": 4,
 "nbformat_minor": 0
}