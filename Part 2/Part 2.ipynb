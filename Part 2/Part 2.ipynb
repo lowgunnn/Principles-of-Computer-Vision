{
 "cells": [
  {
   "cell_type": "markdown",
   "metadata": {
    "collapsed": true,
    "pycharm": {
     "name": "#%% md\n"
    }
   },
   "source": [
    "# Part 1: Computer Vision Functions\n",
    "***\n",
    "# Table of Contents\n",
    "## Global\n",
    "1.   [Setup](#Setup)\n",
    "\n",
    "## Task A\n",
    "1.   [Scene Loading](#Scene-Loading)\n",
    "2.   [Impainting](#Impainting)\n",
    "3.   [Result Comparison](#Result-Comparison)\n",
    "\n",
    "## Task B"
   ]
  },
  {
   "cell_type": "markdown",
   "source": [
    "# Setup\n",
    "\n",
    "3 libraries are used for this part of the assignment:\n",
    "* [opencv](https://opencv.org/)\n",
    "* [numpy](https://numpy.org/)\n",
    "* [tqdm](https://tqdm.github.io/)\n",
    "* [os](https://docs.python.org/3/library/os.html)"
   ],
   "metadata": {
    "collapsed": false
   }
  },
  {
   "cell_type": "code",
   "execution_count": 1,
   "outputs": [
    {
     "name": "stdout",
     "output_type": "stream",
     "text": [
      "cv2 version: 4.0.1\n",
      "numpy version: 1.19.2\n",
      "tqdm version: 4.59.0\n"
     ]
    }
   ],
   "source": [
    "import cv2\n",
    "print('cv2 version:', cv2.__version__)\n",
    "import numpy as np\n",
    "print('numpy version:', np.__version__)\n",
    "import tqdm\n",
    "print('tqdm version:', tqdm.__version__)\n",
    "from tqdm.notebook import tqdm\n",
    "import os"
   ],
   "metadata": {
    "collapsed": false,
    "pycharm": {
     "name": "#%%\n"
    }
   }
  },
  {
   "cell_type": "markdown",
   "source": [
    "# Scene Loading"
   ],
   "metadata": {
    "collapsed": false,
    "pycharm": {
     "name": "#%% md\n"
    }
   }
  },
  {
   "cell_type": "code",
   "execution_count": 2,
   "outputs": [],
   "source": [
    "id_to_Scene = [\"Statues\",\n",
    "               \"Shooter Glasses\",\n",
    "               \"Academic Books\",\n",
    "               \"Footwear\",\n",
    "               \"Mugs\",\n",
    "               \"Tech\"]"
   ],
   "metadata": {
    "collapsed": false,
    "pycharm": {
     "name": "#%%\n"
    }
   }
  },
  {
   "cell_type": "code",
   "execution_count": 3,
   "outputs": [],
   "source": [
    "root = 'Images/S2/'\n",
    "if not os.access(root, os.R_OK):\n",
    "    print(\"Check dataroot!!\")\n",
    "\n",
    "scenes = os.listdir(root)\n",
    "\n",
    "S2 = [cv2.imread(os.path.join(root, s)) for s in scenes]"
   ],
   "metadata": {
    "collapsed": false,
    "pycharm": {
     "name": "#%%\n"
    }
   }
  },
  {
   "cell_type": "code",
   "execution_count": 4,
   "outputs": [],
   "source": [
    "root = 'Images/S1/'\n",
    "if not os.access(root, os.R_OK):\n",
    "    print(\"Check dataroot!!\")\n",
    "\n",
    "scenes = os.listdir(root)\n",
    "\n",
    "S1 = [cv2.imread(os.path.join(root, s)) for s in scenes]\n"
   ],
   "metadata": {
    "collapsed": false,
    "pycharm": {
     "name": "#%%\n"
    }
   }
  },
  {
   "cell_type": "code",
   "execution_count": 5,
   "outputs": [],
   "source": [
    "root = 'Images/Masks/'\n",
    "if not os.access(root, os.R_OK):\n",
    "    print(\"Check dataroot!!\")\n",
    "\n",
    "masks = os.listdir(root)\n",
    "\n",
    "Masks = [cv2.imread(os.path.join(root, m), 0) for m in masks]"
   ],
   "metadata": {
    "collapsed": false,
    "pycharm": {
     "name": "#%%\n"
    }
   }
  },
  {
   "cell_type": "markdown",
   "source": [
    "# Impainting"
   ],
   "metadata": {
    "collapsed": false
   }
  },
  {
   "cell_type": "markdown",
   "source": [
    "## TELEA and NS"
   ],
   "metadata": {
    "collapsed": false,
    "pycharm": {
     "name": "#%% md\n"
    }
   }
  },
  {
   "cell_type": "code",
   "source": [
    "impainted = []\n",
    "for i, img in tqdm(enumerate(S2)):\n",
    "    impainted.append(cv2.inpaint(img.copy(), Masks[i].copy(), 3, cv2.INPAINT_TELEA))\n",
    "    cv2.imwrite(\"Output/TELEA \"+ id_to_Scene[i] +\".png\", impainted[-1], [cv2.IMWRITE_PNG_COMPRESSION, 0])\n",
    "\n",
    "    impainted.append(cv2.inpaint(img.copy(), Masks[i].copy(), 3, cv2.INPAINT_NS))\n",
    "    cv2.imwrite(\"Output/NS \"+ id_to_Scene[i] +\".png\", impainted[-1], [cv2.IMWRITE_PNG_COMPRESSION, 0])"
   ],
   "metadata": {
    "collapsed": false,
    "pycharm": {
     "name": "#%%\n"
    }
   },
   "execution_count": 6,
   "outputs": [
    {
     "data": {
      "text/plain": "0it [00:00, ?it/s]",
      "application/vnd.jupyter.widget-view+json": {
       "version_major": 2,
       "version_minor": 0,
       "model_id": "51cf4a0f489143df8069b5fad1d13700"
      }
     },
     "metadata": {},
     "output_type": "display_data"
    }
   ]
  },
  {
   "cell_type": "markdown",
   "source": [
    "# Result Comparison\n"
   ],
   "metadata": {
    "collapsed": false
   }
  },
  {
   "cell_type": "code",
   "execution_count": 7,
   "outputs": [],
   "source": [
    "def SSD(image1, image2):\n",
    "    return np.sum((image1.astype(\"float\") - image2.astype(\"float\")) ** 2)\n",
    "\n",
    "def MSE(image1, image2):\n",
    "    return np.mean((image1-image2)**2)"
   ],
   "metadata": {
    "collapsed": false,
    "pycharm": {
     "name": "#%%\n"
    }
   }
  },
  {
   "cell_type": "code",
   "execution_count": 9,
   "outputs": [],
   "source": [
    "Results = {\"SSD\": [], \"MSE\": []}\n",
    "\n",
    "Results[\"SSD\"] = [SSD(impaint.copy(), S1[i//2].copy()) for i, impaint in enumerate(impainted)]\n",
    "Results[\"MSE\"] = [MSE(impaint.copy(), S1[i//2].copy()) for i, impaint in enumerate(impainted)]"
   ],
   "metadata": {
    "collapsed": false,
    "pycharm": {
     "name": "#%%\n"
    }
   }
  },
  {
   "cell_type": "code",
   "execution_count": 10,
   "outputs": [
    {
     "name": "stdout",
     "output_type": "stream",
     "text": [
      "{'SSD': [487461624.0, 496995348.0, 83845946.0, 84640814.0, 372850560.0, 379575607.0, 87419718.0, 96006167.0, 78877863.0, 83528925.0, 132791205.0, 146494060.0], 'MSE': [42.20888599537037, 42.317044270833335, 13.175113570601852, 13.191220341435185, 23.02449074074074, 22.732982855902776, 17.648451244212964, 17.57639720775463, 14.983393735532408, 15.16211697048611, 14.793022641782407, 15.010594618055556]}\n"
     ]
    }
   ],
   "source": [
    "print(Results)\n",
    "\n"
   ],
   "metadata": {
    "collapsed": false,
    "pycharm": {
     "name": "#%%\n"
    }
   }
  }
 ],
 "metadata": {
  "kernelspec": {
   "display_name": "Python 3",
   "language": "python",
   "name": "python3"
  },
  "language_info": {
   "codemirror_mode": {
    "name": "ipython",
    "version": 2
   },
   "file_extension": ".py",
   "mimetype": "text/x-python",
   "name": "python",
   "nbconvert_exporter": "python",
   "pygments_lexer": "ipython2",
   "version": "2.7.6"
  }
 },
 "nbformat": 4,
 "nbformat_minor": 0
}