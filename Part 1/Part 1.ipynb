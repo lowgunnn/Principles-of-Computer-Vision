{
 "cells": [
  {
   "cell_type": "markdown",
   "metadata": {
    "pycharm": {
     "name": "#%% md\n"
    }
   },
   "source": [
    "# Part 1: Computer Vision Functions\n",
    "***\n",
    "# Table of Contents\n",
    "## Global\n",
    "1.   [Setup](#Setup)\n",
    "\n",
    "## Stage 1\n",
    "1.   [Object Extraction](#Object-Extraction)\n",
    "2.   [Filtering](#Filtering)\n",
    "3.   [Object Blending](#Object-Blending)\n",
    "4.   [Result Comparison](#Result-Comparison)\n",
    "\n",
    "## Stage 2\n",
    "1.   [Remove Green](#Remove-Green)\n",
    "2.   [Change Background](#Change-Background)"
   ]
  },
  {
   "cell_type": "markdown",
   "metadata": {
    "pycharm": {
     "name": "#%% md\n"
    }
   },
   "source": [
    "# Setup\n",
    "\n",
    "3 libraries are used for this part of the assignment:\n",
    "* [opencv](https://opencv.org/)\n",
    "* [numpy](https://numpy.org/)\n",
    "* [tqdm](https://tqdm.github.io/)"
   ]
  },
  {
   "cell_type": "code",
   "execution_count": 1,
   "metadata": {},
   "outputs": [
    {
     "name": "stdout",
     "output_type": "stream",
     "text": [
      "cv2 version: 4.0.1\n",
      "numpy version: 1.19.2\n",
      "tqdm version: 4.59.0\n"
     ]
    }
   ],
   "source": [
    "import cv2\n",
    "print('cv2 version:', cv2.__version__)\n",
    "import numpy as np\n",
    "print('numpy version:', np.__version__)\n",
    "import tqdm\n",
    "print('tqdm version:', tqdm.__version__)\n",
    "from tqdm.notebook import tqdm"
   ]
  },
  {
   "cell_type": "markdown",
   "metadata": {},
   "source": [
    "# Object Extraction\n",
    "\n",
    "Given a scene containing objects and a mask of a desired object, the ```ExtractObject``` function will extract the object from the image."
   ]
  },
  {
   "cell_type": "code",
   "execution_count": 2,
   "metadata": {},
   "outputs": [
    {
     "data": {
      "text/plain": "True"
     },
     "execution_count": 2,
     "metadata": {},
     "output_type": "execute_result"
    }
   ],
   "source": [
    "def ExtractObject(S2, ObjectMask):\n",
    "    return cv2.bitwise_and(S2, S2, mask=ObjectMask)\n",
    "    \n",
    "\n",
    "S2 = cv2.imread(\"Images/2_colour.jpeg\", 1)\n",
    "\n",
    "ObjectMask = cv2.imread(\"Masks/statues_no_3_colour_mask_2_mask.png\", 0)\n",
    "\n",
    "ExtractedObject = ExtractObject(S2, ObjectMask)\n",
    "cv2.imwrite(\"Output/Extracted Object.png\", ExtractedObject, [cv2.IMWRITE_PNG_COMPRESSION, 0])"
   ]
  },
  {
   "cell_type": "markdown",
   "metadata": {
    "pycharm": {
     "name": "#%% md\n"
    }
   },
   "source": [
    "# Filtering\n",
    "\n",
    "3 filters are provided with the ```ApplyFilter``` function:\n",
    "\n",
    "* 2D Convolution 5x5 averaging\n",
    "* Gaussian Blurring\n",
    "* Sharpening Kernel"
   ]
  },
  {
   "cell_type": "code",
   "execution_count": 3,
   "metadata": {},
   "outputs": [
    {
     "data": {
      "text/plain": "True"
     },
     "execution_count": 3,
     "metadata": {},
     "output_type": "execute_result"
    }
   ],
   "source": [
    "def ApplyFilter(ExtractedObject, FilterIndex):\n",
    "    if FilterIndex == 0:\n",
    "        return ExtractedObject\n",
    "    \n",
    "    if FilterIndex == 1:\n",
    "        # 2D Convolution 5x5 averaging\n",
    "        kernel = np.ones((5,5),np.float32)/25\n",
    "        return cv2.filter2D(ExtractedObject, -1, kernel)\n",
    "    \n",
    "    if FilterIndex == 2:\n",
    "        # Gaussian Blurring\n",
    "        return cv2.GaussianBlur(ExtractedObject, (5,5), 0)\n",
    "    \n",
    "    if FilterIndex == 3:\n",
    "        # Sharpening Kernel\n",
    "        kernel = np.array([[-1,-1,-1],\n",
    "                       [-1, 9,-1],\n",
    "                       [-1,-1,-1]])\n",
    "        return cv2.filter2D(ExtractedObject, -1, kernel)\n",
    "\n",
    "cv2.imwrite(\"Output/Filtered Object 0.png\", ApplyFilter(ExtractedObject.copy(), 0), [cv2.IMWRITE_PNG_COMPRESSION, 0])\n",
    "cv2.imwrite(\"Output/Filtered Object 1.png\", ApplyFilter(ExtractedObject.copy(), 1), [cv2.IMWRITE_PNG_COMPRESSION, 0])\n",
    "cv2.imwrite(\"Output/Filtered Object 2.png\", ApplyFilter(ExtractedObject.copy(), 2), [cv2.IMWRITE_PNG_COMPRESSION, 0])\n",
    "cv2.imwrite(\"Output/Filtered Object 3.png\", ApplyFilter(ExtractedObject.copy(), 3), [cv2.IMWRITE_PNG_COMPRESSION, 0])"
   ]
  },
  {
   "cell_type": "markdown",
   "metadata": {
    "pycharm": {
     "name": "#%% md\n"
    }
   },
   "source": [
    "# Object Blending"
   ]
  },
  {
   "cell_type": "code",
   "execution_count": 4,
   "metadata": {
    "pycharm": {
     "name": "#%%\n"
    }
   },
   "outputs": [
    {
     "data": {
      "text/plain": "True"
     },
     "execution_count": 4,
     "metadata": {},
     "output_type": "execute_result"
    }
   ],
   "source": [
    "def ObjectBlending(S1, FilteredExObject):\n",
    "    \n",
    "    c_text = S1.copy()\n",
    "    for i, y in enumerate(FilteredExObject):\n",
    "        for j, x in enumerate(y):\n",
    "            if np.sum(FilteredExObject[i][j]) != 0:\n",
    "                c_text[i][j] = x \n",
    "    return c_text\n",
    "\n",
    "S1 = cv2.imread(\"Images/1_colour.jpeg\")\n",
    "BlendingResult = ObjectBlending(S1, ExtractedObject)\n",
    "cv2.imwrite(\"Output/Blended Result.png\", BlendingResult, [cv2.IMWRITE_PNG_COMPRESSION, 0])"
   ]
  },
  {
   "cell_type": "markdown",
   "source": [
    "# Result Comparison\n",
    "\n",
    "The Sum of Squared Error (SSE) and Mean Squared Error (MSE) are used as metrics. In ```CompareResult``` the metric parameter distinguishes between the 2."
   ],
   "metadata": {
    "collapsed": false
   }
  },
  {
   "cell_type": "code",
   "execution_count": 5,
   "outputs": [
    {
     "name": "stdout",
     "output_type": "stream",
     "text": [
      "58.45912688078704\n"
     ]
    }
   ],
   "source": [
    "def SSD(image1, image2):\n",
    "    return np.sum((image1.astype(\"float\") - image2.astype(\"float\")) ** 2)\n",
    "\n",
    "def MSE(image1, image2):\n",
    "    return np.mean((image1-image2)**2)\n",
    "\n",
    "def CompareResult(BlendingResult, S2, metric):\n",
    "    if metric == 0:\n",
    "        return MSE(BlendingResult, S2)\n",
    "    else:\n",
    "        return SSD(BlendingResult,S2)\n",
    "\n",
    "error = CompareResult(BlendingResult, S2, 0)\n",
    "print(error)"
   ],
   "metadata": {
    "collapsed": false,
    "pycharm": {
     "name": "#%%\n"
    }
   }
  },
  {
   "cell_type": "markdown",
   "metadata": {
    "pycharm": {
     "name": "#%% md\n"
    }
   },
   "source": [
    "# Remove Green\n",
    "\n",
    "The ```removeGreen``` function removes the green background from an image, making sure to keep green colour inside the objects in an image."
   ]
  },
  {
   "cell_type": "code",
   "metadata": {
    "pycharm": {
     "name": "#%%\n"
    }
   },
   "source": [
    "def removeGreen(img):\n",
    "    # convert to hsv\n",
    "    hsv = cv2.cvtColor(img, cv2.COLOR_BGR2HSV)\n",
    "\n",
    "    # mask of green (36,25,25) ~ (86, 255,255)\n",
    "    mask = cv2.inRange(hsv, (36, 25, 25), (86, 255,255))\n",
    "\n",
    "    # slice the green\n",
    "    imask = mask > 0\n",
    "    green = np.zeros_like(img, np.uint8)\n",
    "    green[imask] = img[imask]\n",
    "    cv2.imwrite(\"Output/only Green.png\", green, [cv2.IMWRITE_PNG_COMPRESSION, 0])\n",
    "\n",
    "    # flip to gray\n",
    "    gray = cv2.cvtColor(green.copy(),cv2.COLOR_BGR2GRAY)\n",
    "    cv2.imwrite(\"Output/gray.png\", gray, [cv2.IMWRITE_PNG_COMPRESSION, 0])\n",
    "\n",
    "    # get treshold\n",
    "    ret, thresh = cv2.threshold(gray, 0, 255, cv2.THRESH_BINARY)\n",
    "    cv2.imwrite(\"Output/tresh.png\", thresh, [cv2.IMWRITE_PNG_COMPRESSION, 0])\n",
    "\n",
    "    # flip\n",
    "    flip = cv2.bitwise_not(thresh)\n",
    "    cv2.imwrite(\"Output/flip.png\", flip, [cv2.IMWRITE_PNG_COMPRESSION, 0])\n",
    "\n",
    "    kernel = np.ones((20, 20), 'uint8')\n",
    "    close = cv2.morphologyEx(flip, cv2.MORPH_CLOSE ,kernel)\n",
    "    cv2.imwrite(\"Output/close.png\", close, [cv2.IMWRITE_PNG_COMPRESSION, 0])\n",
    "\n",
    "    c_img = img.copy()\n",
    "    for i, y in enumerate(img):\n",
    "        for j, x in enumerate(y):\n",
    "            if np.sum(close[i][j]) != 255:\n",
    "                c_img[i][j] = (0, 0, 0)\n",
    "    return c_img\n",
    "\n",
    "img = cv2.imread(\"Images/Books/1_colour.jpeg\")\n",
    "no_green = removeGreen(img.copy())\n",
    "cv2.imwrite(\"Output/No Green.png\", no_green, [cv2.IMWRITE_PNG_COMPRESSION, 0])"
   ],
   "execution_count": 6,
   "outputs": [
    {
     "data": {
      "text/plain": "True"
     },
     "execution_count": 6,
     "metadata": {},
     "output_type": "execute_result"
    }
   ]
  },
  {
   "cell_type": "markdown",
   "metadata": {
    "pycharm": {
     "name": "#%% md\n"
    }
   },
   "source": [
    "# Change background\n",
    "\n",
    "The ```changeBackground``` function uses the modified code from ```removeGreen```. The main difference here is that the final step of repainting the object onto the return image is that a new provided background is used instead of black."
   ]
  },
  {
   "cell_type": "code",
   "execution_count": 7,
   "metadata": {
    "pycharm": {
     "name": "#%%\n"
    }
   },
   "outputs": [
    {
     "data": {
      "text/plain": "True"
     },
     "execution_count": 7,
     "metadata": {},
     "output_type": "execute_result"
    }
   ],
   "source": [
    "def removeGreen(img):\n",
    "    # convert to hsv\n",
    "    hsv = cv2.cvtColor(img, cv2.COLOR_BGR2HSV)\n",
    "\n",
    "    # mask of green (36,25,25) ~ (86, 255,255)\n",
    "    mask = cv2.inRange(hsv, (36, 25, 25), (86, 255,255))\n",
    "\n",
    "    # slice the green\n",
    "    imask = mask > 0\n",
    "    green = np.zeros_like(img, np.uint8)\n",
    "    green[imask] = img[imask]\n",
    "    cv2.imwrite(\"Output/only Green.png\", green, [cv2.IMWRITE_PNG_COMPRESSION, 0])\n",
    "\n",
    "    # flip to gray\n",
    "    gray = cv2.cvtColor(green.copy(),cv2.COLOR_BGR2GRAY)\n",
    "    cv2.imwrite(\"Output/gray.png\", gray, [cv2.IMWRITE_PNG_COMPRESSION, 0])\n",
    "\n",
    "    # get treshold\n",
    "    ret, thresh = cv2.threshold(gray, 0, 255, cv2.THRESH_BINARY)\n",
    "    cv2.imwrite(\"Output/tresh.png\", thresh, [cv2.IMWRITE_PNG_COMPRESSION, 0])\n",
    "\n",
    "    # flip\n",
    "    flip = cv2.bitwise_not(thresh)\n",
    "    cv2.imwrite(\"Output/flip.png\", flip, [cv2.IMWRITE_PNG_COMPRESSION, 0])\n",
    "\n",
    "    kernel = np.ones((20, 20), 'uint8')\n",
    "    close = cv2.morphologyEx(flip, cv2.MORPH_CLOSE ,kernel)\n",
    "    cv2.imwrite(\"Output/close.png\", close, [cv2.IMWRITE_PNG_COMPRESSION, 0])\n",
    "\n",
    "    c_img = img.copy()\n",
    "    for i, y in enumerate(img):\n",
    "        for j, x in enumerate(y):\n",
    "            if np.sum(close[i][j]) != 255:\n",
    "                c_img[i][j] = (0, 0, 0)\n",
    "    return c_img\n",
    "\n",
    "img = cv2.imread(\"Images/Books/1_colour.jpeg\")\n",
    "no_green = removeGreen(img.copy())\n",
    "cv2.imwrite(\"Output/No Green.png\", no_green, [cv2.IMWRITE_PNG_COMPRESSION, 0])"
   ]
  },
  {
   "cell_type": "markdown",
   "metadata": {
    "pycharm": {
     "name": "#%% md\n"
    }
   },
   "source": [
    "# Change background"
   ]
  },
  {
   "cell_type": "code",
   "execution_count": 8,
   "metadata": {
    "pycharm": {
     "name": "#%%\n"
    },
    "scrolled": true
   },
   "outputs": [
    {
     "data": {
      "text/plain": "0it [00:00, ?it/s]",
      "application/vnd.jupyter.widget-view+json": {
       "version_major": 2,
       "version_minor": 0,
       "model_id": "e359695bf2c5444f926a0a00f3d9c8a6"
      }
     },
     "metadata": {},
     "output_type": "display_data"
    },
    {
     "data": {
      "text/plain": "0it [00:00, ?it/s]",
      "application/vnd.jupyter.widget-view+json": {
       "version_major": 2,
       "version_minor": 0,
       "model_id": "103e446ad8d741399289172ca29be9cf"
      }
     },
     "metadata": {},
     "output_type": "display_data"
    },
    {
     "data": {
      "text/plain": "0it [00:00, ?it/s]",
      "application/vnd.jupyter.widget-view+json": {
       "version_major": 2,
       "version_minor": 0,
       "model_id": "374360f5b2324b58bd956c0e2a58da1b"
      }
     },
     "metadata": {},
     "output_type": "display_data"
    },
    {
     "data": {
      "text/plain": "0it [00:00, ?it/s]",
      "application/vnd.jupyter.widget-view+json": {
       "version_major": 2,
       "version_minor": 0,
       "model_id": "9dc420f865aa440eaed70f832d255b6f"
      }
     },
     "metadata": {},
     "output_type": "display_data"
    },
    {
     "data": {
      "text/plain": "True"
     },
     "execution_count": 8,
     "metadata": {},
     "output_type": "execute_result"
    }
   ],
   "source": [
    "def changeBackground(img, background):\n",
    "    assert img.shape[0] <=  background.shape[0] and img.shape[1] <=  background.shape[1]\n",
    "\n",
    "    # convert to hsv\n",
    "    hsv = cv2.cvtColor(img, cv2.COLOR_BGR2HSV)\n",
    "\n",
    "    # mask of green (36,25,25) ~ (86, 255,255)\n",
    "    mask = cv2.inRange(hsv, (36, 25, 25), (86, 255,255))\n",
    "\n",
    "    # slice the green\n",
    "    imask = mask > 0\n",
    "    green = np.zeros_like(img, np.uint8)\n",
    "    green[imask] = img[imask]\n",
    "\n",
    "    # flip to gray\n",
    "    gray = cv2.cvtColor(green.copy(),cv2.COLOR_BGR2GRAY)\n",
    "\n",
    "    # get treshold\n",
    "    ret, thresh = cv2.threshold(gray, 0, 255, cv2.THRESH_BINARY)\n",
    "\n",
    "    # flip\n",
    "    flip = cv2.bitwise_not(thresh)\n",
    "\n",
    "    kernel = np.ones((20, 20), 'uint8')\n",
    "    close = cv2.morphologyEx(flip, cv2.MORPH_CLOSE ,kernel)\n",
    "\n",
    "    c_img = background.copy()\n",
    "    for i, y in tqdm(enumerate(background)):\n",
    "        if i < img.shape[0]:\n",
    "            for j, x in enumerate(y):\n",
    "                if j < img.shape[1]:\n",
    "                    if np.sum(close[i][j]) == 255:\n",
    "                        c_img[i][j] = img[i][j]\n",
    "    return c_img\n",
    "\n",
    "book = cv2.imread(\"Images/Books/1_colour.jpeg\")\n",
    "jesus = cv2.imread(\"Images/2_colour.jpeg\")\n",
    "buddha = cv2.imread(\"Images/5_colour.jpeg\")\n",
    "backgroundLarge = cv2.imread(\"Images/Ben 1920.png\")\n",
    "backgroundExact = cv2.imread(\"Images/Ben 720.png\")\n",
    "backgroundDog = cv2.imread(\"Images/Dog 720.png\")\n",
    "backgroundJake = cv2.imread(\"Images/Jake 720.png\")\n",
    "new_background = changeBackground(img.copy(), backgroundExact)\n",
    "cv2.imwrite(\"Output/On Exact Background.png\", new_background, [cv2.IMWRITE_PNG_COMPRESSION, 0])\n",
    "new_background = changeBackground(img.copy(), backgroundLarge)\n",
    "cv2.imwrite(\"Output/On Large Background.png\", new_background, [cv2.IMWRITE_PNG_COMPRESSION, 0])\n",
    "new_background = changeBackground(jesus.copy(), backgroundDog)\n",
    "cv2.imwrite(\"Output/On Dog.png\", new_background, [cv2.IMWRITE_PNG_COMPRESSION, 0])\n",
    "new_background = changeBackground(buddha.copy(), backgroundJake)\n",
    "cv2.imwrite(\"Output/On Jake.png\", new_background, [cv2.IMWRITE_PNG_COMPRESSION, 0])"
   ]
  }
 ],
 "metadata": {
  "kernelspec": {
   "display_name": "Python 3",
   "language": "python",
   "name": "python3"
  },
  "language_info": {
   "codemirror_mode": {
    "name": "ipython",
    "version": 3
   },
   "file_extension": ".py",
   "mimetype": "text/x-python",
   "name": "python",
   "nbconvert_exporter": "python",
   "pygments_lexer": "ipython3",
   "version": "3.8.5"
  }
 },
 "nbformat": 4,
 "nbformat_minor": 4
}