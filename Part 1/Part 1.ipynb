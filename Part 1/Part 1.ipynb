{
 "cells": [
  {
   "cell_type": "markdown",
   "source": [
    "# Part 1: Computer Vision Functions\n",
    "***\n",
    "# Table of Contents\n",
    "1.   [Setup](#Setup)\n",
    "2.   [Exercise 1 - Connected Components](#Exercise-1---Connected-Components)\n",
    "3.   [Exercise 2 - Dilation](#Exercise-2---Dilation)\n",
    "4.   [Exercise 3 - Erosion](#Exercise-3---Erosion)\n",
    "5.   [Exercise 4 - Opening](#Exercise-4---Opening)\n",
    "6.   [Exercise 5 - Closing](#Exercise-5---Closing)\n",
    "7.   [Exercise 6 - Line Segmentation](#Exercise-6---Line-Segmentation)\n"
   ],
   "metadata": {
    "collapsed": false,
    "pycharm": {
     "name": "#%% md\n"
    }
   }
  },
  {
   "cell_type": "markdown",
   "source": [
    "# Stage 1 Setup"
   ],
   "metadata": {
    "collapsed": false,
    "pycharm": {
     "name": "#%% md\n"
    }
   }
  },
  {
   "cell_type": "code",
   "execution_count": 2,
   "metadata": {},
   "outputs": [],
   "source": [
    "import cv2\n",
    "import numpy as np"
   ]
  },
  {
   "cell_type": "markdown",
   "metadata": {},
   "source": [
    "# Object Extraction\n",
    "\n",
    "Given a scene containing objects and a mask of a desired object, the following function will extract the object from the image."
   ]
  },
  {
   "cell_type": "code",
   "execution_count": 5,
   "metadata": {},
   "outputs": [
    {
     "data": {
      "text/plain": "True"
     },
     "execution_count": 5,
     "metadata": {},
     "output_type": "execute_result"
    }
   ],
   "source": [
    "def ExtractObject(S2, ObjectMask):\n",
    "    return cv2.bitwise_and(S2, S2, mask=ObjectMask)\n",
    "    \n",
    "\n",
    "S2 = cv2.imread(\"Images/Books/2_colour.jpeg\",1)\n",
    "\n",
    "ObjectMask = cv2.imread(\"Masks/Books/lpbooks_no_3_colour_mask_2_mask.png\",0)\n",
    "\n",
    "ExtractedObject = ExtractObject(S2, ObjectMask)\n",
    "cv2.imwrite(\"Output/Extracted Object.png\", ExtractedObject, [cv2.IMWRITE_PNG_COMPRESSION, 0])"
   ]
  },
  {
   "cell_type": "markdown",
   "source": [
    "# Filtering\n",
    "\n",
    "* 5x5 averaging\n",
    "* Gaussian Blurring\n",
    "* Median Blurring"
   ],
   "metadata": {
    "collapsed": false,
    "pycharm": {
     "name": "#%% md\n"
    }
   }
  },
  {
   "cell_type": "code",
   "execution_count": 3,
   "metadata": {},
   "outputs": [
    {
     "data": {
      "text/plain": "True"
     },
     "execution_count": 3,
     "metadata": {},
     "output_type": "execute_result"
    }
   ],
   "source": [
    "def ApplyFilter(ExtractedObject, FilterIndex):\n",
    "    if FilterIndex == 0:\n",
    "        return ExtractedObject\n",
    "    \n",
    "    if FilterIndex == 1:\n",
    "        # 2D Convolution 5x5 averaging\n",
    "        kernel = np.ones((5,5),np.float32)/25\n",
    "        return cv2.filter2D(ExtractedObject, -1, kernel)\n",
    "    \n",
    "    if FilterIndex == 2:\n",
    "        # Gaussian Blurring\n",
    "        return cv2.GaussianBlur(ExtractedObject, (5,5), 0)\n",
    "    \n",
    "    if FilterIndex == 3:\n",
    "        # Median Blurring\n",
    "        return cv2.medianBlur(ExtractedObject, 5)\n",
    "\n",
    "cv2.imwrite(\"Output/Filtered Object 0.png\", ApplyFilter(ExtractedObject.copy(), 0), [cv2.IMWRITE_PNG_COMPRESSION, 0])\n",
    "cv2.imwrite(\"Output/Filtered Object 1.png\", ApplyFilter(ExtractedObject.copy(), 1), [cv2.IMWRITE_PNG_COMPRESSION, 0])\n",
    "cv2.imwrite(\"Output/Filtered Object 2.png\", ApplyFilter(ExtractedObject.copy(), 2), [cv2.IMWRITE_PNG_COMPRESSION, 0])\n",
    "cv2.imwrite(\"Output/Filtered Object 3.png\", ApplyFilter(ExtractedObject.copy(), 3), [cv2.IMWRITE_PNG_COMPRESSION, 0])"
   ]
  },
  {
   "cell_type": "markdown",
   "metadata": {},
   "source": [
    " <h1>Object Blending</h1>"
   ]
  },
  {
   "cell_type": "code",
   "execution_count": 6,
   "metadata": {},
   "outputs": [
    {
     "data": {
      "text/plain": [
       "-1"
      ]
     },
     "execution_count": 6,
     "metadata": {},
     "output_type": "execute_result"
    }
   ],
   "execution_count": 4,
   "outputs": [
    {
     "data": {
      "text/plain": "True"
     },
     "execution_count": 4,
     "metadata": {},
     "output_type": "execute_result"
    }
   ],
   "source": [
    "def ObjectBlending(S1, FilteredExObject):\n",
    "    \n",
    "    c_text = S1.copy()\n",
    "    for i, y in enumerate(FilteredExObject):\n",
    "        for j, x in enumerate(y):\n",
    "            if np.sum(FilteredExObject[i][j]) != 0:\n",
    "                c_text[i][j] = x \n",
    "    return c_text\n",
    "\n",
    "S1 = cv2.imread(\"Images/Books/1_colour.jpeg\",1)\n",
    "BlendingResult = ObjectBlending(S1, ExtractedObject)\n",
    "cv2.imshow(\"Blended Scene\", BlendingResult)\n",
    "cv2.waitKey(0)"
   ]
  },
  {
   "cell_type": "markdown",
   "metadata": {},
   "source": [
    "<h1>Result Comparison</h1>\n"
   ]
    "cv2.imwrite(\"Output/Blended Result.png\", BlendingResult, [cv2.IMWRITE_PNG_COMPRESSION, 0])"
   ],
   "metadata": {
    "collapsed": false,
    "pycharm": {
     "name": "#%%\n"
    }
   }
  },
  {
   "cell_type": "markdown",
   "source": [
    "# Stage 2"
   ],
   "metadata": {
    "collapsed": false,
    "pycharm": {
     "name": "#%% md\n"
    }
   }
  },
  {
   "cell_type": "markdown",
   "source": [
    "# Remove Green\n",
    "\n",
    "Generate hsv for documentation\n",
    "https://stackoverflow.com/questions/47483951/how-to-define-a-threshold-value-to-detect-only-green-colour-objects-in-an-image"
   ],
   "metadata": {
    "collapsed": false,
    "pycharm": {
     "name": "#%% md\n"
    }
   }
  },
  {
   "cell_type": "code",
   "execution_count": 8,
   "outputs": [
    {
     "ename": "error",
     "evalue": "OpenCV(4.0.1) C:\\ci\\opencv-suite_1573470242804\\work\\modules\\core\\src\\arithm.cpp:1742: error: (-209:Sizes of input arguments do not match) The lower boundary is neither an array of the same size and same type as src, nor a scalar in function 'cv::inRange'\n",
     "output_type": "error",
     "traceback": [
      "\u001B[1;31m---------------------------------------------------------------------------\u001B[0m",
      "\u001B[1;31merror\u001B[0m                                     Traceback (most recent call last)",
      "\u001B[1;32m<ipython-input-8-2a8fc3628783>\u001B[0m in \u001B[0;36m<module>\u001B[1;34m\u001B[0m\n\u001B[0;32m     11\u001B[0m \u001B[1;33m\u001B[0m\u001B[0m\n\u001B[0;32m     12\u001B[0m \u001B[0mimg\u001B[0m \u001B[1;33m=\u001B[0m \u001B[0mcv2\u001B[0m\u001B[1;33m.\u001B[0m\u001B[0mimread\u001B[0m\u001B[1;33m(\u001B[0m\u001B[1;34m\"Images/Books/1_colour.jpeg\"\u001B[0m\u001B[1;33m,\u001B[0m\u001B[1;36m0\u001B[0m\u001B[1;33m)\u001B[0m\u001B[1;33m\u001B[0m\u001B[1;33m\u001B[0m\u001B[0m\n\u001B[1;32m---> 13\u001B[1;33m \u001B[0mno_green\u001B[0m \u001B[1;33m=\u001B[0m \u001B[0mremoveGreen\u001B[0m\u001B[1;33m(\u001B[0m\u001B[0mimg\u001B[0m\u001B[1;33m.\u001B[0m\u001B[0mcopy\u001B[0m\u001B[1;33m(\u001B[0m\u001B[1;33m)\u001B[0m\u001B[1;33m)\u001B[0m\u001B[1;33m\u001B[0m\u001B[1;33m\u001B[0m\u001B[0m\n\u001B[0m\u001B[0;32m     14\u001B[0m \u001B[0mcv2\u001B[0m\u001B[1;33m.\u001B[0m\u001B[0mimwrite\u001B[0m\u001B[1;33m(\u001B[0m\u001B[1;34m\"Output/No Green.png\"\u001B[0m\u001B[1;33m,\u001B[0m \u001B[0mno_green\u001B[0m\u001B[1;33m,\u001B[0m \u001B[1;33m[\u001B[0m\u001B[0mcv2\u001B[0m\u001B[1;33m.\u001B[0m\u001B[0mIMWRITE_PNG_COMPRESSION\u001B[0m\u001B[1;33m,\u001B[0m \u001B[1;36m0\u001B[0m\u001B[1;33m]\u001B[0m\u001B[1;33m)\u001B[0m\u001B[1;33m\u001B[0m\u001B[1;33m\u001B[0m\u001B[0m\n",
      "\u001B[1;32m<ipython-input-8-2a8fc3628783>\u001B[0m in \u001B[0;36mremoveGreen\u001B[1;34m(img)\u001B[0m\n\u001B[0;32m      4\u001B[0m     \u001B[0ml_green\u001B[0m \u001B[1;33m=\u001B[0m \u001B[0mnp\u001B[0m\u001B[1;33m.\u001B[0m\u001B[0marray\u001B[0m\u001B[1;33m(\u001B[0m\u001B[1;33m[\u001B[0m\u001B[1;36m30\u001B[0m\u001B[1;33m,\u001B[0m \u001B[1;36m30\u001B[0m\u001B[1;33m,\u001B[0m \u001B[1;36m0\u001B[0m\u001B[1;33m]\u001B[0m\u001B[1;33m)\u001B[0m\u001B[1;33m\u001B[0m\u001B[1;33m\u001B[0m\u001B[0m\n\u001B[0;32m      5\u001B[0m \u001B[1;33m\u001B[0m\u001B[0m\n\u001B[1;32m----> 6\u001B[1;33m     \u001B[0mmask\u001B[0m \u001B[1;33m=\u001B[0m \u001B[0mcv2\u001B[0m\u001B[1;33m.\u001B[0m\u001B[0minRange\u001B[0m\u001B[1;33m(\u001B[0m\u001B[0mimg\u001B[0m\u001B[1;33m,\u001B[0m \u001B[0ml_green\u001B[0m\u001B[1;33m,\u001B[0m \u001B[0mu_green\u001B[0m\u001B[1;33m)\u001B[0m\u001B[1;33m\u001B[0m\u001B[1;33m\u001B[0m\u001B[0m\n\u001B[0m\u001B[0;32m      7\u001B[0m     \u001B[0mres\u001B[0m \u001B[1;33m=\u001B[0m \u001B[0mcv2\u001B[0m\u001B[1;33m.\u001B[0m\u001B[0mbitwise_and\u001B[0m\u001B[1;33m(\u001B[0m\u001B[0mimg\u001B[0m\u001B[1;33m,\u001B[0m \u001B[0mimg\u001B[0m\u001B[1;33m,\u001B[0m \u001B[0mmask\u001B[0m \u001B[1;33m=\u001B[0m \u001B[0mmask\u001B[0m\u001B[1;33m)\u001B[0m\u001B[1;33m\u001B[0m\u001B[1;33m\u001B[0m\u001B[0m\n\u001B[0;32m      8\u001B[0m \u001B[1;33m\u001B[0m\u001B[0m\n",
      "\u001B[1;31merror\u001B[0m: OpenCV(4.0.1) C:\\ci\\opencv-suite_1573470242804\\work\\modules\\core\\src\\arithm.cpp:1742: error: (-209:Sizes of input arguments do not match) The lower boundary is neither an array of the same size and same type as src, nor a scalar in function 'cv::inRange'\n"
     ]
    }
   ],
   "source": [
    "def removeGreen(img):\n",
    "    # convert to hsv\n",
    "    u_green = np.array([104, 153, 70])\n",
    "    l_green = np.array([30, 30, 0])\n",
    "\n",
    "    mask = cv2.inRange(img, l_green, u_green)\n",
    "    res = cv2.bitwise_and(img, img, mask = mask)\n",
    "\n",
    "    f = img - res\n",
    "    # f = np.where(f == 0, image, f)\n",
    "\n",
    "img = cv2.imread(\"Images/Books/1_colour.jpeg\",0)\n",
    "no_green = removeGreen(img.copy())\n",
    "cv2.imwrite(\"Output/No Green.png\", no_green, [cv2.IMWRITE_PNG_COMPRESSION, 0])"
   ],
   "metadata": {
    "collapsed": false,
    "pycharm": {
     "name": "#%%\n"
    }
   }
  },
  {
   "cell_type": "code",
   "execution_count": 10,
   "metadata": {},
   "outputs": [
    {
     "name": "stdout",
     "output_type": "stream",
     "text": [
      "42327708.0\n"
     ]
    }
   ],
   "source": [
    "def CompareResult(BlendingResult, S2, metric):\n",
    "    \n",
    "    if metric == 0:\n",
    "        return MSE(BlendingResult, S2)\n",
    "        \n",
    "        \n",
    "    else:\n",
    "        return SSD(BlendingResult,S2)\n",
    "\n",
    "def MSE(image1,image2):\n",
    "    \n",
    "    error = np.sum((image1.astype(\"float\") - image2.astype(\"float\")) ** 2)\n",
    "    error /= float(image1.shape[0] * image1.shape[1])\n",
    "    return error\n",
    "    \n",
    "def SSD(image1,image2):\n",
    "    \n",
    "    error = np.sum((image1.astype(\"float\") - image2.astype(\"float\")) ** 2)\n",
    "    return error\n",
    "    \n",
    "error = CompareResult(BlendingResult,S2,1)\n",
    "print(error)"
   ]
  },
  {
   "cell_type": "code",
   "execution_count": null,
   "metadata": {},
   "outputs": [],
   "source": []
  }
 ],
 "metadata": {
  "kernelspec": {
   "display_name": "Python 3",
   "language": "python",
   "name": "python3"
  },
  "language_info": {
   "codemirror_mode": {
    "name": "ipython",
    "version": 3
   },
   "file_extension": ".py",
   "mimetype": "text/x-python",
   "name": "python",
   "nbconvert_exporter": "python",
   "pygments_lexer": "ipython3",
   "version": "3.8.5"
  }
 },
 "nbformat": 4,
 "nbformat_minor": 4
}
