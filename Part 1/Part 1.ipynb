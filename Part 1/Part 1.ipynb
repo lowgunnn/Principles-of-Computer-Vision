{
 "cells": [
  {
   "cell_type": "markdown",
   "metadata": {
    "pycharm": {
     "name": "#%% md\n"
    }
   },
   "source": [
    "# Part 1: Computer Vision Functions\n",
    "***\n",
    "# Table of Contents\n",
    "1.   [Setup](#Setup)\n",
    "2.   [Exercise 1 - Connected Components](#Exercise-1---Connected-Components)\n",
    "3.   [Exercise 2 - Dilation](#Exercise-2---Dilation)\n",
    "4.   [Exercise 3 - Erosion](#Exercise-3---Erosion)\n",
    "5.   [Exercise 4 - Opening](#Exercise-4---Opening)\n",
    "6.   [Exercise 5 - Closing](#Exercise-5---Closing)\n",
    "7.   [Exercise 6 - Line Segmentation](#Exercise-6---Line-Segmentation)\n"
   ]
  },
  {
   "cell_type": "markdown",
   "metadata": {
    "pycharm": {
     "name": "#%% md\n"
    }
   },
   "source": [
    "# Stage 1 Setup"
   ]
  },
  {
   "cell_type": "code",
   "execution_count": 1,
   "metadata": {},
   "outputs": [],
   "source": [
    "import cv2\n",
    "import numpy as np\n",
    "from tqdm.notebook import tqdm"
   ]
  },
  {
   "cell_type": "markdown",
   "metadata": {},
   "source": [
    "# Object Extraction\n",
    "\n",
    "Given a scene containing objects and a mask of a desired object, the following function will extract the object from the image."
   ]
  },
  {
   "cell_type": "code",
   "execution_count": 2,
   "metadata": {},
   "outputs": [
    {
     "data": {
      "text/plain": [
       "True"
      ]
     },
     "execution_count": 2,
     "metadata": {},
     "output_type": "execute_result"
    }
   ],
   "source": [
    "def ExtractObject(S2, ObjectMask):\n",
    "    return cv2.bitwise_and(S2, S2, mask=ObjectMask)\n",
    "    \n",
    "\n",
    "S2 = cv2.imread(\"Images/Books/3_colour.jpeg\", 1)\n",
    "\n",
    "ObjectMask = cv2.imread(\"Masks/Books/lpbooks_no_3_colour_mask_2_mask.png\", 0)\n",
    "\n",
    "ExtractedObject = ExtractObject(S2, ObjectMask)\n",
    "cv2.imwrite(\"Output/Extracted Object.png\", ExtractedObject, [cv2.IMWRITE_PNG_COMPRESSION, 0])"
   ]
  },
  {
   "cell_type": "markdown",
   "metadata": {
    "pycharm": {
     "name": "#%% md\n"
    }
   },
   "source": [
    "# Filtering\n",
    "\n",
    "* 5x5 averaging\n",
    "* Gaussian Blurring\n",
    "* Median Blurring"
   ]
  },
  {
   "cell_type": "code",
   "execution_count": 3,
   "metadata": {},
   "outputs": [
    {
     "data": {
      "text/plain": [
       "True"
      ]
     },
     "execution_count": 3,
     "metadata": {},
     "output_type": "execute_result"
    }
   ],
   "source": [
    "def ApplyFilter(ExtractedObject, FilterIndex):\n",
    "    if FilterIndex == 0:\n",
    "        return ExtractedObject\n",
    "    \n",
    "    if FilterIndex == 1:\n",
    "        # 2D Convolution 5x5 averaging\n",
    "        kernel = np.ones((5,5),np.float32)/25\n",
    "        return cv2.filter2D(ExtractedObject, -1, kernel)\n",
    "    \n",
    "    if FilterIndex == 2:\n",
    "        # Gaussian Blurring\n",
    "        return cv2.GaussianBlur(ExtractedObject, (5,5), 0)\n",
    "    \n",
    "    if FilterIndex == 3:\n",
    "        # Median Blurring\n",
    "        return cv2.medianBlur(ExtractedObject, 5)\n",
    "\n",
    "cv2.imwrite(\"Output/Filtered Object 0.png\", ApplyFilter(ExtractedObject.copy(), 0), [cv2.IMWRITE_PNG_COMPRESSION, 0])\n",
    "cv2.imwrite(\"Output/Filtered Object 1.png\", ApplyFilter(ExtractedObject.copy(), 1), [cv2.IMWRITE_PNG_COMPRESSION, 0])\n",
    "cv2.imwrite(\"Output/Filtered Object 2.png\", ApplyFilter(ExtractedObject.copy(), 2), [cv2.IMWRITE_PNG_COMPRESSION, 0])\n",
    "cv2.imwrite(\"Output/Filtered Object 3.png\", ApplyFilter(ExtractedObject.copy(), 3), [cv2.IMWRITE_PNG_COMPRESSION, 0])"
   ]
  },
  {
   "cell_type": "markdown",
   "metadata": {
    "pycharm": {
     "name": "#%% md\n"
    }
   },
   "source": [
    "# Object Blending"
   ]
  },
  {
   "cell_type": "code",
   "execution_count": 4,
   "metadata": {
    "pycharm": {
     "name": "#%%\n"
    }
   },
   "outputs": [
    {
     "data": {
      "text/plain": [
       "True"
      ]
     },
     "execution_count": 4,
     "metadata": {},
     "output_type": "execute_result"
    }
   ],
   "source": [
    "def ObjectBlending(S1, FilteredExObject):\n",
    "    \n",
    "    c_text = S1.copy()\n",
    "    for i, y in enumerate(FilteredExObject):\n",
    "        for j, x in enumerate(y):\n",
    "            if np.sum(FilteredExObject[i][j]) != 0:\n",
    "                c_text[i][j] = x \n",
    "    return c_text\n",
    "\n",
    "S1 = cv2.imread(\"Images/Books/1_colour.jpeg\")\n",
    "BlendingResult = ObjectBlending(S1, ExtractedObject)\n",
    "cv2.imwrite(\"Output/Blended Result.png\", BlendingResult, [cv2.IMWRITE_PNG_COMPRESSION, 0])"
   ]
  },
  {
   "cell_type": "markdown",
   "metadata": {
    "pycharm": {
     "name": "#%% md\n"
    }
   },
   "source": [
    "# Stage 2"
   ]
  },
  {
   "cell_type": "markdown",
   "metadata": {
    "pycharm": {
     "name": "#%% md\n"
    }
   },
   "source": [
    "# Remove Green\n",
    "\n",
    "Generate hsv for documentation\n",
    "https://stackoverflow.com/questions/47483951/how-to-define-a-threshold-value-to-detect-only-green-colour-objects-in-an-image"
   ]
  },
  {
   "cell_type": "code",
   "execution_count": 5,
   "metadata": {
    "pycharm": {
     "name": "#%%\n"
    }
   },
   "outputs": [
    {
     "data": {
      "text/plain": [
       "True"
      ]
     },
     "execution_count": 5,
     "metadata": {},
     "output_type": "execute_result"
    }
   ],
   "source": [
    "def removeGreen(img):\n",
    "    # convert to hsv\n",
    "    hsv = cv2.cvtColor(img, cv2.COLOR_BGR2HSV)\n",
    "\n",
    "    # mask of green (36,25,25) ~ (86, 255,255)\n",
    "    mask = cv2.inRange(hsv, (36, 25, 25), (86, 255,255))\n",
    "\n",
    "    # slice the green\n",
    "    imask = mask > 0\n",
    "    green = np.zeros_like(img, np.uint8)\n",
    "    green[imask] = img[imask]\n",
    "    cv2.imwrite(\"Output/only Green.png\", green, [cv2.IMWRITE_PNG_COMPRESSION, 0])\n",
    "\n",
    "    # flip to gray\n",
    "    gray = cv2.cvtColor(green.copy(),cv2.COLOR_BGR2GRAY)\n",
    "    cv2.imwrite(\"Output/gray.png\", gray, [cv2.IMWRITE_PNG_COMPRESSION, 0])\n",
    "\n",
    "    # get treshold\n",
    "    ret, thresh = cv2.threshold(gray, 0, 255, cv2.THRESH_BINARY)\n",
    "    cv2.imwrite(\"Output/tresh.png\", thresh, [cv2.IMWRITE_PNG_COMPRESSION, 0])\n",
    "\n",
    "    # flip\n",
    "    flip = cv2.bitwise_not(thresh)\n",
    "    cv2.imwrite(\"Output/flip.png\", flip, [cv2.IMWRITE_PNG_COMPRESSION, 0])\n",
    "\n",
    "    kernel = np.ones((20, 20), 'uint8')\n",
    "    close = cv2.morphologyEx(flip, cv2.MORPH_CLOSE ,kernel)\n",
    "    cv2.imwrite(\"Output/close.png\", close, [cv2.IMWRITE_PNG_COMPRESSION, 0])\n",
    "\n",
    "    c_img = img.copy()\n",
    "    for i, y in enumerate(img):\n",
    "        for j, x in enumerate(y):\n",
    "            if np.sum(close[i][j]) != 255:\n",
    "                c_img[i][j] = (0, 0, 0)\n",
    "    return c_img\n",
    "\n",
    "img = cv2.imread(\"Images/Books/1_colour.jpeg\")\n",
    "no_green = removeGreen(img.copy())\n",
    "cv2.imwrite(\"Output/No Green.png\", no_green, [cv2.IMWRITE_PNG_COMPRESSION, 0])"
   ]
  },
  {
   "cell_type": "markdown",
   "metadata": {
    "pycharm": {
     "name": "#%% md\n"
    }
   },
   "source": [
    "# Change background"
   ]
  },
  {
   "cell_type": "code",
   "execution_count": 6,
   "metadata": {
    "pycharm": {
     "name": "#%%\n"
    },
    "scrolled": true
   },
   "outputs": [
    {
     "data": {
      "application/vnd.jupyter.widget-view+json": {
       "model_id": "2ef754b76aaf4325aeaa54654c13d86e",
       "version_major": 2,
       "version_minor": 0
      },
      "text/plain": [
       "0it [00:00, ?it/s]"
      ]
     },
     "metadata": {},
     "output_type": "display_data"
    },
    {
     "data": {
      "application/vnd.jupyter.widget-view+json": {
       "model_id": "972384e19ebb4a4c8765fd9a47e711ae",
       "version_major": 2,
       "version_minor": 0
      },
      "text/plain": [
       "0it [00:00, ?it/s]"
      ]
     },
     "metadata": {},
     "output_type": "display_data"
    },
    {
     "data": {
      "text/plain": [
       "True"
      ]
     },
     "execution_count": 6,
     "metadata": {},
     "output_type": "execute_result"
    }
   ],
   "source": [
    "def changeBackground(img, background):\n",
    "    assert img.shape[0] <=  background.shape[0] and img.shape[1] <=  background.shape[1]\n",
    "\n",
    "    # convert to hsv\n",
    "    hsv = cv2.cvtColor(img, cv2.COLOR_BGR2HSV)\n",
    "\n",
    "    # mask of green (36,25,25) ~ (86, 255,255)\n",
    "    mask = cv2.inRange(hsv, (36, 25, 25), (86, 255,255))\n",
    "\n",
    "    # slice the green\n",
    "    imask = mask > 0\n",
    "    green = np.zeros_like(img, np.uint8)\n",
    "    green[imask] = img[imask]\n",
    "\n",
    "    # flip to gray\n",
    "    gray = cv2.cvtColor(green.copy(),cv2.COLOR_BGR2GRAY)\n",
    "\n",
    "    # get treshold\n",
    "    ret, thresh = cv2.threshold(gray, 0, 255, cv2.THRESH_BINARY)\n",
    "\n",
    "    # flip\n",
    "    flip = cv2.bitwise_not(thresh)\n",
    "\n",
    "    kernel = np.ones((20, 20), 'uint8')\n",
    "    close = cv2.morphologyEx(flip, cv2.MORPH_CLOSE ,kernel)\n",
    "\n",
    "    c_img = background.copy()\n",
    "    for i, y in tqdm(enumerate(background)):\n",
    "        if i < img.shape[0]:\n",
    "            for j, x in enumerate(y):\n",
    "                if j < img.shape[1]:\n",
    "                    if np.sum(close[i][j]) == 255:\n",
    "                        c_img[i][j] = img[i][j]\n",
    "    return c_img\n",
    "\n",
    "img = cv2.imread(\"Images/Books/1_colour.jpeg\")\n",
    "backgroundExact = cv2.imread(\"Images/1280.jpg\")\n",
    "backgroundLarge = cv2.imread(\"Images/1920.jpg\")\n",
    "new_background = changeBackground(img.copy(), backgroundExact)\n",
    "cv2.imwrite(\"Output/On Exact Background.png\", new_background, [cv2.IMWRITE_PNG_COMPRESSION, 0])\n",
    "new_background = changeBackground(img.copy(), backgroundLarge)\n",
    "cv2.imwrite(\"Output/On Large Background.png\", new_background, [cv2.IMWRITE_PNG_COMPRESSION, 0])"
   ]
  }
 ],
 "metadata": {
  "kernelspec": {
   "display_name": "Python 3",
   "language": "python",
   "name": "python3"
  },
  "language_info": {
   "codemirror_mode": {
    "name": "ipython",
    "version": 3
   },
   "file_extension": ".py",
   "mimetype": "text/x-python",
   "name": "python",
   "nbconvert_exporter": "python",
   "pygments_lexer": "ipython3",
   "version": "3.8.8"
  }
 },
 "nbformat": 4,
 "nbformat_minor": 4
}