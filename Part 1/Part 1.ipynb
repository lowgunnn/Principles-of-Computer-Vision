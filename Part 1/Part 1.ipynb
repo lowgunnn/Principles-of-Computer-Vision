{
 "cells": [
  {
   "cell_type": "code",
   "execution_count": 2,
   "metadata": {},
   "outputs": [],
   "source": [
    "import cv2\n",
    "import numpy as np"
   ]
  },
  {
   "cell_type": "markdown",
   "metadata": {},
   "source": [
    "# Object Extraction\n",
    "\n",
    "Given a scene containing objects and a mask of a desired object, the following function will extract the object from the image."
   ]
  },
  {
   "cell_type": "code",
   "execution_count": 5,
   "metadata": {},
   "outputs": [
    {
     "data": {
      "text/plain": [
       "True"
      ]
     },
     "execution_count": 5,
     "metadata": {},
     "output_type": "execute_result"
    }
   ],
   "source": [
    "def ExtractObject(S2, ObjectMask):\n",
    "    return cv2.bitwise_and(S2, S2, mask=ObjectMask)\n",
    "    \n",
    "\n",
    "S2 = cv2.imread(\"Images/Books/2_colour.jpeg\",1)\n",
    "\n",
    "ObjectMask = cv2.imread(\"Masks/Books/lpbooks_no_3_colour_mask_2_mask.png\",0)\n",
    "\n",
    "ExtractedObject = ExtractObject(S2, ObjectMask)\n",
    "cv2.imwrite(\"Output/Extracted Object.png\", ExtractedObject, [cv2.IMWRITE_PNG_COMPRESSION, 0])"
   ]
  },
  {
   "cell_type": "code",
   "execution_count": 5,
   "metadata": {},
   "outputs": [
    {
     "data": {
      "text/plain": [
       "True"
      ]
     },
     "execution_count": 5,
     "metadata": {},
     "output_type": "execute_result"
    }
   ],
   "source": [
    "def ApplyFilter(ExtractedObject, FilterIndex):\n",
    "    if FilterIndex == 0:\n",
    "        return ExtractedObject\n",
    "    \n",
    "    if FilterIndex == 1:\n",
    "        # 2D Convolution 5x5 averaging\n",
    "        kernel = np.ones((5,5),np.float32)/25\n",
    "        return cv2.filter2D(ExtractedObject, -1, kernel)\n",
    "    \n",
    "    if FilterIndex == 2:\n",
    "        # Gaussian Blurring\n",
    "        return cv2.GaussianBlur(ExtractedObject, (5,5), 0)\n",
    "    \n",
    "    if FilterIndex == 3:\n",
    "        # Median Blurring\n",
    "        return cv2.medianBlur(ExtractedObject, 5)\n",
    "\n",
    "cv2.imwrite(\"Output/Filtered Object 0.png\", ApplyFilter(ExtractedObject.copy(), 0), [cv2.IMWRITE_PNG_COMPRESSION, 0])\n",
    "cv2.imwrite(\"Output/Filtered Object 1.png\", ApplyFilter(ExtractedObject.copy(), 1), [cv2.IMWRITE_PNG_COMPRESSION, 0])\n",
    "cv2.imwrite(\"Output/Filtered Object 2.png\", ApplyFilter(ExtractedObject.copy(), 2), [cv2.IMWRITE_PNG_COMPRESSION, 0])\n",
    "cv2.imwrite(\"Output/Filtered Object 3.png\", ApplyFilter(ExtractedObject.copy(), 3), [cv2.IMWRITE_PNG_COMPRESSION, 0])"
   ]
  },
  {
   "cell_type": "markdown",
   "metadata": {},
   "source": [
    " <h1>Object Blending</h1>"
   ]
  },
  {
   "cell_type": "code",
   "execution_count": 6,
   "metadata": {},
   "outputs": [
    {
     "data": {
      "text/plain": [
       "-1"
      ]
     },
     "execution_count": 6,
     "metadata": {},
     "output_type": "execute_result"
    }
   ],
   "source": [
    "def ObjectBlending(S1, FilteredExObject):\n",
    "    \n",
    "    c_text = S1.copy()\n",
    "    for i, y in enumerate(FilteredExObject):\n",
    "        for j, x in enumerate(y):\n",
    "            if np.sum(FilteredExObject[i][j]) != 0:\n",
    "                c_text[i][j] = x \n",
    "    return c_text\n",
    "\n",
    "S1 = cv2.imread(\"Images/Books/1_colour.jpeg\",1)\n",
    "BlendingResult = ObjectBlending(S1, ExtractedObject)\n",
    "cv2.imshow(\"Blended Scene\", BlendingResult)\n",
    "cv2.waitKey(0)"
   ]
  },
  {
   "cell_type": "markdown",
   "metadata": {},
   "source": [
    "<h1>Result Comparison</h1>\n"
   ]
  },
  {
   "cell_type": "code",
   "execution_count": 10,
   "metadata": {},
   "outputs": [
    {
     "name": "stdout",
     "output_type": "stream",
     "text": [
      "42327708.0\n"
     ]
    }
   ],
   "source": [
    "def CompareResult(BlendingResult, S2, metric):\n",
    "    \n",
    "    if metric == 0:\n",
    "        return MSE(BlendingResult, S2)\n",
    "        \n",
    "        \n",
    "    else:\n",
    "        return SSD(BlendingResult,S2)\n",
    "\n",
    "def MSE(image1,image2):\n",
    "    \n",
    "    error = np.sum((image1.astype(\"float\") - image2.astype(\"float\")) ** 2)\n",
    "    error /= float(image1.shape[0] * image1.shape[1])\n",
    "    return error\n",
    "    \n",
    "def SSD(image1,image2):\n",
    "    \n",
    "    error = np.sum((image1.astype(\"float\") - image2.astype(\"float\")) ** 2)\n",
    "    return error\n",
    "    \n",
    "error = CompareResult(BlendingResult,S2,1)\n",
    "print(error)"
   ]
  },
  {
   "cell_type": "code",
   "execution_count": null,
   "metadata": {},
   "outputs": [],
   "source": []
  }
 ],
 "metadata": {
  "kernelspec": {
   "display_name": "Python 3",
   "language": "python",
   "name": "python3"
  },
  "language_info": {
   "codemirror_mode": {
    "name": "ipython",
    "version": 3
   },
   "file_extension": ".py",
   "mimetype": "text/x-python",
   "name": "python",
   "nbconvert_exporter": "python",
   "pygments_lexer": "ipython3",
   "version": "3.8.5"
  }
 },
 "nbformat": 4,
 "nbformat_minor": 4
}
